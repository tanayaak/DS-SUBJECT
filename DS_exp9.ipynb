{
  "nbformat": 4,
  "nbformat_minor": 0,
  "metadata": {
    "colab": {
      "private_outputs": true,
      "provenance": [],
      "include_colab_link": true
    },
    "kernelspec": {
      "name": "python3",
      "display_name": "Python 3"
    },
    "language_info": {
      "name": "python"
    }
  },
  "cells": [
    {
      "cell_type": "markdown",
      "metadata": {
        "id": "view-in-github",
        "colab_type": "text"
      },
      "source": [
        "<a href=\"https://colab.research.google.com/github/tanayaak/DS-SUBJECT/blob/main/DS_exp9.ipynb\" target=\"_parent\"><img src=\"https://colab.research.google.com/assets/colab-badge.svg\" alt=\"Open In Colab\"/></a>"
      ]
    },
    {
      "cell_type": "code",
      "execution_count": null,
      "metadata": {
        "id": "5RJZhQqwYBLS"
      },
      "outputs": [],
      "source": [
        "#IMPORT LIBRARIES"
      ]
    },
    {
      "cell_type": "code",
      "source": [
        "import numpy as np\n",
        "import pandas as pd\n",
        "from sklearn.datasets import load_iris\n",
        "from sklearn.model_selection import train_test_split\n",
        "from sklearn.linear_model import LogisticRegression\n",
        "from sklearn.feature_selection import SequentialFeatureSelector\n",
        "from sklearn.metrics import accuracy_score\n"
      ],
      "metadata": {
        "id": "a4DPfRo9YQOj"
      },
      "execution_count": null,
      "outputs": []
    },
    {
      "cell_type": "code",
      "source": [
        "# Load the Iris dataset\n",
        "iris = load_iris()\n",
        "X = iris.data\n",
        "y = iris.target"
      ],
      "metadata": {
        "id": "5HJjKL--YVaX"
      },
      "execution_count": null,
      "outputs": []
    },
    {
      "cell_type": "code",
      "source": [
        "# Split the dataset into training and testing sets\n",
        "X_train, X_test, y_train, y_test = train_test_split(X, y, test_size=0.3, random_state=42)"
      ],
      "metadata": {
        "id": "LdeOg5g5YalE"
      },
      "execution_count": null,
      "outputs": []
    },
    {
      "cell_type": "code",
      "source": [
        "# Apply Sequential Feature Selector with forward selection\n",
        "selector = SequentialFeatureSelector(model, n_features_to_select='auto', direction='forward', cv=5)\n",
        "\n",
        "# Fit the selector on the training data\n",
        "selector.fit(X_train, y_train)\n",
        "\n",
        "# Get the selected features\n",
        "selected_features = selector.get_support()\n",
        "print(\"Selected Features: \", selected_features)"
      ],
      "metadata": {
        "id": "CnuQxQcaYd1m"
      },
      "execution_count": null,
      "outputs": []
    },
    {
      "cell_type": "code",
      "source": [
        "#Evaluate the model with selected features"
      ],
      "metadata": {
        "id": "_uejmL2FZb_N"
      },
      "execution_count": null,
      "outputs": []
    },
    {
      "cell_type": "code",
      "source": [
        "# Create a new dataset with the selected features\n",
        "X_train_selected = X_train[:, selected_features]\n",
        "X_test_selected = X_test[:, selected_features]\n",
        "\n",
        "# Train the model using the selected features\n",
        "model.fit(X_train_selected, y_train)\n",
        "\n",
        "# Make predictions\n",
        "y_pred = model.predict(X_test_selected)\n",
        "\n",
        "# Evaluate performance\n",
        "accuracy = accuracy_score(y_test, y_pred)\n",
        "print(f\"Model Accuracy with Selected Features: {accuracy:.4f}\")"
      ],
      "metadata": {
        "id": "t3NDomStZKtq"
      },
      "execution_count": null,
      "outputs": []
    },
    {
      "cell_type": "code",
      "source": [
        "#visualizing the selected features"
      ],
      "metadata": {
        "id": "1uV45KPGZOTd"
      },
      "execution_count": null,
      "outputs": []
    },
    {
      "cell_type": "code",
      "source": [
        "# Visualizing the Selected Features and Printing them\n",
        "selected_feature_indices = np.where(selected_features)[0]\n",
        "selected_feature_names = np.array(iris.feature_names)[selected_feature_indices]\n",
        "\n",
        "# Print the selected feature names\n",
        "print(\"Selected Features:\", selected_feature_names)\n",
        "\n",
        "# Create a new dataset with the selected features\n",
        "X_train_selected = X_train[:, selected_feature_indices]\n",
        "X_test_selected = X_test[:, selected_feature_indices]\n",
        "\n",
        "# Train the model using the selected features\n",
        "model.fit(X_train_selected, y_train)\n",
        "\n",
        "# Make predictions\n",
        "y_pred = model.predict(X_test_selected)\n",
        "\n",
        "# Evaluate performance\n",
        "accuracy = accuracy_score(y_test, y_pred)\n",
        "print(f\"Model Accuracy with Selected Features: {accuracy:.4f}\")\n"
      ],
      "metadata": {
        "id": "fvme4-94ZToC"
      },
      "execution_count": null,
      "outputs": []
    },
    {
      "cell_type": "code",
      "source": [],
      "metadata": {
        "id": "AmJlHQm_ZWrK"
      },
      "execution_count": null,
      "outputs": []
    }
  ]
}