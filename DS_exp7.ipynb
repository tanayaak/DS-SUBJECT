{
  "nbformat": 4,
  "nbformat_minor": 0,
  "metadata": {
    "colab": {
      "provenance": [],
      "toc_visible": true,
      "include_colab_link": true
    },
    "kernelspec": {
      "name": "python3",
      "display_name": "Python 3"
    },
    "language_info": {
      "name": "python"
    }
  },
  "cells": [
    {
      "cell_type": "markdown",
      "metadata": {
        "id": "view-in-github",
        "colab_type": "text"
      },
      "source": [
        "<a href=\"https://colab.research.google.com/github/tanayaak/DS-SUBJECT/blob/main/DS_exp7.ipynb\" target=\"_parent\"><img src=\"https://colab.research.google.com/assets/colab-badge.svg\" alt=\"Open In Colab\"/></a>"
      ]
    },
    {
      "cell_type": "code",
      "execution_count": null,
      "metadata": {
        "id": "n-7o-WZmFRBQ"
      },
      "outputs": [],
      "source": [
        "from sklearn.feature_selection import mutual_info_classif\n",
        "from sklearn.datasets import load_iris\n",
        "import pandas as pd"
      ]
    },
    {
      "cell_type": "code",
      "source": [
        "# Load sample data (Iris dataset)"
      ],
      "metadata": {
        "id": "JHEON1FiT0ya"
      },
      "execution_count": null,
      "outputs": []
    },
    {
      "cell_type": "code",
      "source": [
        "data = load_iris()\n",
        "X = pd.DataFrame(data.data, columns=data.feature_names)\n",
        "y = data.target"
      ],
      "metadata": {
        "id": "NvtrMDZeT5QI"
      },
      "execution_count": null,
      "outputs": []
    },
    {
      "cell_type": "code",
      "source": [
        "# Calculate Information Gain (Mutual Information)"
      ],
      "metadata": {
        "id": "qS6Vu_unUBor"
      },
      "execution_count": null,
      "outputs": []
    },
    {
      "cell_type": "code",
      "source": [
        "info_gain = mutual_info_classif(X, y)"
      ],
      "metadata": {
        "id": "YFNEirqfUNSP"
      },
      "execution_count": null,
      "outputs": []
    },
    {
      "cell_type": "code",
      "source": [
        "# Display Information Gain for each feature"
      ],
      "metadata": {
        "id": "LQnpQpCgUP9v"
      },
      "execution_count": null,
      "outputs": []
    },
    {
      "cell_type": "code",
      "source": [
        "info_gain_df = pd.DataFrame({'Feature': X.columns, 'Information Gain': info_gain})\n",
        "print(info_gain_df.sort_values(by='Information Gain', ascending=False))"
      ],
      "metadata": {
        "colab": {
          "base_uri": "https://localhost:8080/"
        },
        "id": "83qBGfRyUTJ-",
        "outputId": "e605141c-b2c1-4ac9-ef25-723d6e3aca4b"
      },
      "execution_count": null,
      "outputs": [
        {
          "output_type": "stream",
          "name": "stdout",
          "text": [
            "             Feature  Information Gain\n",
            "2  petal length (cm)          0.989066\n",
            "3   petal width (cm)          0.981502\n",
            "0  sepal length (cm)          0.503898\n",
            "1   sepal width (cm)          0.257509\n"
          ]
        }
      ]
    },
    {
      "cell_type": "code",
      "source": [
        "#calculate chi-square"
      ],
      "metadata": {
        "id": "z7nEUfctUWKJ"
      },
      "execution_count": null,
      "outputs": []
    },
    {
      "cell_type": "code",
      "source": [
        "from sklearn.feature_selection import chi2\n",
        "from sklearn.preprocessing import MinMaxScaler"
      ],
      "metadata": {
        "id": "p6xtQSpBU0eT"
      },
      "execution_count": null,
      "outputs": []
    },
    {
      "cell_type": "code",
      "source": [
        "# Normalize the data to [0,1] range before applying Chi-Square"
      ],
      "metadata": {
        "id": "X8XEKMW5U2KF"
      },
      "execution_count": null,
      "outputs": []
    },
    {
      "cell_type": "code",
      "source": [
        "scaler = MinMaxScaler()\n",
        "X_scaled = scaler.fit_transform(X)"
      ],
      "metadata": {
        "id": "oIla5Gv4U5gk"
      },
      "execution_count": null,
      "outputs": []
    },
    {
      "cell_type": "code",
      "source": [
        "# Perform Chi-Square test"
      ],
      "metadata": {
        "id": "0FndFWo7U7tT"
      },
      "execution_count": null,
      "outputs": []
    },
    {
      "cell_type": "code",
      "source": [
        "chi_scores, p_values = chi2(X_scaled, y)"
      ],
      "metadata": {
        "id": "8Zfy6EgIVEQz"
      },
      "execution_count": null,
      "outputs": []
    },
    {
      "cell_type": "code",
      "source": [
        "# Display Chi-Square scores and p-values for each feature"
      ],
      "metadata": {
        "id": "tUQVFXwTVGoO"
      },
      "execution_count": null,
      "outputs": []
    },
    {
      "cell_type": "code",
      "source": [
        "chi2_df = pd.DataFrame({'Feature': data.feature_names, 'Chi-Square Score': chi_scores, 'p-value': p_values})\n",
        "print(chi2_df.sort_values(by='Chi-Square Score', ascending=False))"
      ],
      "metadata": {
        "colab": {
          "base_uri": "https://localhost:8080/"
        },
        "id": "kVrCrcLiVJUn",
        "outputId": "cd2409b1-cded-43ca-a7e2-57021a32877b"
      },
      "execution_count": null,
      "outputs": [
        {
          "output_type": "stream",
          "name": "stdout",
          "text": [
            "             Feature  Chi-Square Score       p-value\n",
            "3   petal width (cm)         30.478068  2.408639e-07\n",
            "2  petal length (cm)         26.861936  1.468942e-06\n",
            "0  sepal length (cm)         11.377274  3.384203e-03\n",
            "1   sepal width (cm)          4.470734  1.069529e-01\n"
          ]
        }
      ]
    },
    {
      "cell_type": "code",
      "source": [
        "#calculate pearson correlation"
      ],
      "metadata": {
        "id": "1lYAIpkYVQAN"
      },
      "execution_count": null,
      "outputs": []
    },
    {
      "cell_type": "code",
      "source": [
        "import numpy as np\n",
        "import pandas as pd\n",
        "from scipy.stats import pearsonr"
      ],
      "metadata": {
        "id": "hHgi2K4IVToY"
      },
      "execution_count": null,
      "outputs": []
    },
    {
      "cell_type": "code",
      "source": [
        "# Load data into a pandas DataFrame"
      ],
      "metadata": {
        "id": "rXQbec-xVZLn"
      },
      "execution_count": null,
      "outputs": []
    },
    {
      "cell_type": "code",
      "source": [
        "X_df = pd.DataFrame(X, columns=data.feature_names)"
      ],
      "metadata": {
        "id": "_mfew94mVcC9"
      },
      "execution_count": null,
      "outputs": []
    },
    {
      "cell_type": "code",
      "source": [
        "# Calculate Pearson Correlation for each feature with the target"
      ],
      "metadata": {
        "id": "RF_AZZ-BVet6"
      },
      "execution_count": null,
      "outputs": []
    },
    {
      "cell_type": "code",
      "source": [
        "pearson_results = []\n",
        "for column in X_df.columns:\n",
        "    corr, _ = pearsonr(X_df[column], y)\n",
        "    pearson_results.append((column, corr))"
      ],
      "metadata": {
        "id": "e8h59067Vgrh"
      },
      "execution_count": null,
      "outputs": []
    },
    {
      "cell_type": "code",
      "source": [
        "# Display Pearson correlation for each feature"
      ],
      "metadata": {
        "id": "lbALHKupVl_d"
      },
      "execution_count": null,
      "outputs": []
    },
    {
      "cell_type": "code",
      "source": [
        "pearson_df = pd.DataFrame(pearson_results, columns=['Feature', 'Pearson Correlation'])\n",
        "print(pearson_df.sort_values(by='Pearson Correlation', ascending=False))"
      ],
      "metadata": {
        "id": "812IK71gVovb",
        "outputId": "f080d101-4553-423e-c774-31a1ac133e59",
        "colab": {
          "base_uri": "https://localhost:8080/"
        }
      },
      "execution_count": null,
      "outputs": [
        {
          "output_type": "stream",
          "name": "stdout",
          "text": [
            "             Feature  Pearson Correlation\n",
            "3   petal width (cm)             0.956547\n",
            "2  petal length (cm)             0.949035\n",
            "0  sepal length (cm)             0.782561\n",
            "1   sepal width (cm)            -0.426658\n"
          ]
        }
      ]
    },
    {
      "cell_type": "code",
      "source": [],
      "metadata": {
        "id": "utXUGkaeVq4Z"
      },
      "execution_count": null,
      "outputs": []
    }
  ]
}