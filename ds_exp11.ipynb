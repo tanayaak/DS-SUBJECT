{
  "nbformat": 4,
  "nbformat_minor": 0,
  "metadata": {
    "colab": {
      "private_outputs": true,
      "provenance": [],
      "include_colab_link": true
    },
    "kernelspec": {
      "name": "python3",
      "display_name": "Python 3"
    },
    "language_info": {
      "name": "python"
    }
  },
  "cells": [
    {
      "cell_type": "markdown",
      "metadata": {
        "id": "view-in-github",
        "colab_type": "text"
      },
      "source": [
        "<a href=\"https://colab.research.google.com/github/tanayaak/DS-SUBJECT/blob/main/ds_exp11.ipynb\" target=\"_parent\"><img src=\"https://colab.research.google.com/assets/colab-badge.svg\" alt=\"Open In Colab\"/></a>"
      ]
    },
    {
      "cell_type": "code",
      "execution_count": null,
      "metadata": {
        "id": "giDfzxpijtFm"
      },
      "outputs": [],
      "source": [
        "# Import necessary libraries\n",
        "import numpy as np\n",
        "import pandas as pd\n",
        "from sklearn.model_selection import train_test_split\n",
        "from sklearn.datasets import load_iris\n",
        "from sklearn.linear_model import LogisticRegression\n",
        "from sklearn.ensemble import RandomForestClassifier\n",
        "from sklearn.svm import SVC\n",
        "from sklearn.feature_selection import SelectFromModel\n",
        "import matplotlib.pyplot as plt\n",
        "import seaborn as sns\n",
        "\n",
        "# Load Iris dataset\n",
        "iris = load_iris()\n",
        "X = iris.data\n",
        "y = iris.target"
      ]
    },
    {
      "cell_type": "code",
      "source": [
        "# Split the data into training and testing sets\n",
        "X_train, X_test, y_train, y_test = train_test_split(X, y, test_size=0.3, random_state=42)"
      ],
      "metadata": {
        "id": "CCopEsjVj7tk"
      },
      "execution_count": null,
      "outputs": []
    },
    {
      "cell_type": "code",
      "source": [
        "# Apply Lasso (L1 Regularization) for Feature Selection\n",
        "lasso = LogisticRegression(penalty='l1', solver='liblinear', max_iter=200)  # Lasso (L1 regularization)\n",
        "lasso.fit(X_train, y_train)\n",
        "\n",
        "# Sum absolute coefficients across classes and identify non-zero feature indices\n",
        "lasso_coef_abs_sum = np.sum(np.abs(lasso.coef_), axis=0)\n",
        "lasso_selected_features = np.where(lasso_coef_abs_sum > 0)[0]\n",
        "\n",
        "# Print selected features\n",
        "selected_feature_names = [iris.feature_names[i] for i in lasso_selected_features]\n",
        "print(\"Selected Features using Lasso (L1 Regularization):\", selected_feature_names)"
      ],
      "metadata": {
        "id": "Etsxk6HHj_yj"
      },
      "execution_count": null,
      "outputs": []
    },
    {
      "cell_type": "code",
      "source": [
        "# Apply Random Forest for Feature Selection (Tree-based method)\n",
        "rf = RandomForestClassifier(random_state=42)\n",
        "rf.fit(X_train, y_train)\n",
        "\n",
        "# Get feature importance scores\n",
        "importance = rf.feature_importances_\n",
        "\n",
        "# Select features with importance greater than a threshold (e.g., 0.1)\n",
        "threshold = 0.1\n",
        "rf_selected_features = np.where(importance > threshold)[0]\n",
        "\n",
        "# Get the names of the selected features\n",
        "selected_feature_names = [iris.feature_names[i] for i in rf_selected_features]\n",
        "\n",
        "# Print selected features\n",
        "print(\"Selected Features using Random Forest:\", selected_feature_names)\n",
        "\n",
        "# Visualize feature importances\n",
        "plt.barh(iris.feature_names, importance)\n",
        "plt.xlabel('Feature Importance')\n",
        "plt.title('Feature Importance (Random Forest)')\n",
        "plt.show()\n"
      ],
      "metadata": {
        "id": "2g9SowLtlRvR"
      },
      "execution_count": null,
      "outputs": []
    },
    {
      "cell_type": "code",
      "source": [
        "# Apply Recursive Feature Elimination with Cross-Validation (RFECV)\n",
        "from sklearn.feature_selection import RFECV\n",
        "from sklearn.linear_model import LogisticRegression\n",
        "\n",
        "# Initialize the Logistic Regression model\n",
        "log_reg = LogisticRegression(max_iter=200, solver='liblinear')\n",
        "\n",
        "# Initialize RFECV (automatically selects the best number of features based on cross-validation)\n",
        "rfecv = RFECV(estimator=log_reg, step=1, cv=5, scoring='accuracy')\n",
        "rfecv.fit(X_train, y_train)\n",
        "\n",
        "# Get the selected feature indices\n",
        "rfecv_selected_features = np.where(rfecv.support_)[0]\n",
        "\n",
        "# Get the names of the selected features\n",
        "selected_feature_names = [iris.feature_names[i] for i in rfecv_selected_features]\n",
        "\n",
        "# Print the selected features\n",
        "print(\"Selected Features using RFECV:\", selected_feature_names)\n",
        "\n",
        "# Plot the number of features vs. cross-validation scores\n",
        "plt.plot(range(1, len(rfecv.cv_results_['mean_test_score']) + 1), rfecv.cv_results_['mean_test_score'])\n",
        "plt.xlabel('Number of Features')\n",
        "plt.ylabel('Cross-validation Score')\n",
        "plt.title('RFECV - Number of Features vs. CV Score')\n",
        "plt.show()\n"
      ],
      "metadata": {
        "id": "7BpkHjxJlWKh"
      },
      "execution_count": null,
      "outputs": []
    },
    {
      "cell_type": "code",
      "source": [
        "# Apply SelectFromModel using Extra Trees Classifier\n",
        "from sklearn.feature_selection import SelectFromModel\n",
        "from sklearn.ensemble import ExtraTreesClassifier\n",
        "\n",
        "# Initialize the Extra Trees Classifier\n",
        "etc = ExtraTreesClassifier(n_estimators=100, random_state=42)\n",
        "etc.fit(X_train, y_train)\n",
        "\n",
        "# Use SelectFromModel to select features based on importance\n",
        "selector = SelectFromModel(etc, threshold=\"mean\", prefit=True)\n",
        "select_from_model_selected_features = np.where(selector.get_support())[0]\n",
        "\n",
        "# Get the names of the selected features\n",
        "selected_feature_names = [iris.feature_names[i] for i in select_from_model_selected_features]\n",
        "\n",
        "# Print selected features\n",
        "print(\"Selected Features using SelectFromModel:\", selected_feature_names)\n",
        "\n",
        "# Visualize feature importances\n",
        "importances = etc.feature_importances_\n",
        "plt.barh(iris.feature_names, importances)\n",
        "plt.xlabel('Feature Importance')\n",
        "plt.title('Feature Importance (Extra Trees Classifier)')\n",
        "plt.show()"
      ],
      "metadata": {
        "id": "tR23ir9Glb-D"
      },
      "execution_count": null,
      "outputs": []
    },
    {
      "cell_type": "code",
      "source": [],
      "metadata": {
        "id": "Wftjy1OllyYO"
      },
      "execution_count": null,
      "outputs": []
    }
  ]
}