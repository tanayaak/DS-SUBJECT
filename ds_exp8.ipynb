{
  "nbformat": 4,
  "nbformat_minor": 0,
  "metadata": {
    "colab": {
      "provenance": [],
      "include_colab_link": true
    },
    "kernelspec": {
      "name": "python3",
      "display_name": "Python 3"
    },
    "language_info": {
      "name": "python"
    }
  },
  "cells": [
    {
      "cell_type": "markdown",
      "metadata": {
        "id": "view-in-github",
        "colab_type": "text"
      },
      "source": [
        "<a href=\"https://colab.research.google.com/github/tanayaak/DS-SUBJECT/blob/main/ds_exp8.ipynb\" target=\"_parent\"><img src=\"https://colab.research.google.com/assets/colab-badge.svg\" alt=\"Open In Colab\"/></a>"
      ]
    },
    {
      "cell_type": "code",
      "source": [
        "#Load the dataset\n",
        "from sklearn.datasets import load_breast_cancer\n",
        "import pandas as pd\n",
        "\n",
        "# Load the Breast Cancer dataset\n",
        "data = load_breast_cancer()\n",
        "X = pd.DataFrame(data.data, columns=data.feature_names)\n",
        "y = data.target\n"
      ],
      "metadata": {
        "id": "9ttV_-MbzCZ_"
      },
      "execution_count": null,
      "outputs": []
    },
    {
      "cell_type": "code",
      "source": [
        "print(X.head())"
      ],
      "metadata": {
        "colab": {
          "base_uri": "https://localhost:8080/"
        },
        "id": "LUGvPeFFzEJZ",
        "outputId": "28e1d5a7-470c-416c-a49f-22374869a52c"
      },
      "execution_count": null,
      "outputs": [
        {
          "output_type": "stream",
          "name": "stdout",
          "text": [
            "   mean radius  mean texture  mean perimeter  mean area  mean smoothness  \\\n",
            "0        17.99         10.38          122.80     1001.0          0.11840   \n",
            "1        20.57         17.77          132.90     1326.0          0.08474   \n",
            "2        19.69         21.25          130.00     1203.0          0.10960   \n",
            "3        11.42         20.38           77.58      386.1          0.14250   \n",
            "4        20.29         14.34          135.10     1297.0          0.10030   \n",
            "\n",
            "   mean compactness  mean concavity  mean concave points  mean symmetry  \\\n",
            "0           0.27760          0.3001              0.14710         0.2419   \n",
            "1           0.07864          0.0869              0.07017         0.1812   \n",
            "2           0.15990          0.1974              0.12790         0.2069   \n",
            "3           0.28390          0.2414              0.10520         0.2597   \n",
            "4           0.13280          0.1980              0.10430         0.1809   \n",
            "\n",
            "   mean fractal dimension  ...  worst radius  worst texture  worst perimeter  \\\n",
            "0                 0.07871  ...         25.38          17.33           184.60   \n",
            "1                 0.05667  ...         24.99          23.41           158.80   \n",
            "2                 0.05999  ...         23.57          25.53           152.50   \n",
            "3                 0.09744  ...         14.91          26.50            98.87   \n",
            "4                 0.05883  ...         22.54          16.67           152.20   \n",
            "\n",
            "   worst area  worst smoothness  worst compactness  worst concavity  \\\n",
            "0      2019.0            0.1622             0.6656           0.7119   \n",
            "1      1956.0            0.1238             0.1866           0.2416   \n",
            "2      1709.0            0.1444             0.4245           0.4504   \n",
            "3       567.7            0.2098             0.8663           0.6869   \n",
            "4      1575.0            0.1374             0.2050           0.4000   \n",
            "\n",
            "   worst concave points  worst symmetry  worst fractal dimension  \n",
            "0                0.2654          0.4601                  0.11890  \n",
            "1                0.1860          0.2750                  0.08902  \n",
            "2                0.2430          0.3613                  0.08758  \n",
            "3                0.2575          0.6638                  0.17300  \n",
            "4                0.1625          0.2364                  0.07678  \n",
            "\n",
            "[5 rows x 30 columns]\n"
          ]
        }
      ]
    },
    {
      "cell_type": "code",
      "source": [
        " #Backward Feature Elimination  (RFE)\n",
        "from sklearn.feature_selection import RFE\n",
        "from sklearn.linear_model import LogisticRegression\n",
        "\n",
        "# Define the logistic regression model\n",
        "model = LogisticRegression(max_iter=500)\n",
        "\n",
        "# Perform RFE with Logistic Regression, selecting top 5 features\n",
        "rfe = RFE(model, n_features_to_select=5)\n",
        "X_rfe = rfe.fit_transform(X, y)\n",
        "\n",
        "# Get the selected features\n",
        "selected_features_rfe = X.columns[rfe.support_]\n",
        "print(\"Selected features by RFE (Backward Elimination):\", selected_features_rfe)\n"
      ],
      "metadata": {
        "colab": {
          "base_uri": "https://localhost:8080/"
        },
        "id": "HNR86ywszPup",
        "outputId": "ded1b8e0-86a2-4968-c639-6fa0fe1e6c03"
      },
      "execution_count": null,
      "outputs": [
        {
          "output_type": "stream",
          "name": "stdout",
          "text": [
            "Selected features by RFE (Backward Elimination): Index(['mean radius', 'texture error', 'worst radius', 'worst compactness',\n",
            "       'worst concavity'],\n",
            "      dtype='object')\n"
          ]
        }
      ]
    },
    {
      "cell_type": "code",
      "source": [
        "#LASSO Regularization(embedded method)\n",
        "from sklearn.linear_model import Lasso\n",
        "from sklearn.preprocessing import StandardScaler\n",
        "\n",
        "\n",
        "scaler = StandardScaler()\n",
        "X_scaled = scaler.fit_transform(X)\n",
        "\n",
        "# Apply LASSO regularization\n",
        "lasso = Lasso(alpha=0.01)\n",
        "lasso.fit(X_scaled, y)\n",
        "\n",
        "# Get the features with non-zero coefficients\n",
        "lasso_features = X.columns[lasso.coef_ != 0]\n",
        "print(\"Selected features by LASSO Regularization (L1):\", lasso_features)\n"
      ],
      "metadata": {
        "colab": {
          "base_uri": "https://localhost:8080/"
        },
        "id": "xyLBfjFdzZJU",
        "outputId": "8b098794-4d5e-4e31-a796-d3a387fe07c8"
      },
      "execution_count": null,
      "outputs": [
        {
          "output_type": "stream",
          "name": "stdout",
          "text": [
            "Selected features by LASSO Regularization (L1): Index(['mean texture', 'mean concave points', 'mean fractal dimension',\n",
            "       'radius error', 'smoothness error', 'concavity error', 'worst radius',\n",
            "       'worst texture', 'worst smoothness', 'worst concavity',\n",
            "       'worst concave points', 'worst symmetry'],\n",
            "      dtype='object')\n"
          ]
        }
      ]
    },
    {
      "cell_type": "code",
      "source": [
        "# Compare selected features from both methods\n",
        "print(\"Features selected by Backward Feature Elimination (RFE):\", selected_features_rfe.tolist())\n",
        "print(\"Features selected by LASSO Regularization:\", lasso_features.tolist())\n"
      ],
      "metadata": {
        "colab": {
          "base_uri": "https://localhost:8080/"
        },
        "id": "EgvRkIDBzqnJ",
        "outputId": "9c402f53-0947-4c92-9031-e3a9fdee045b"
      },
      "execution_count": null,
      "outputs": [
        {
          "output_type": "stream",
          "name": "stdout",
          "text": [
            "Features selected by Backward Feature Elimination (RFE): ['mean radius', 'texture error', 'worst radius', 'worst compactness', 'worst concavity']\n",
            "Features selected by LASSO Regularization: ['mean texture', 'mean concave points', 'mean fractal dimension', 'radius error', 'smoothness error', 'concavity error', 'worst radius', 'worst texture', 'worst smoothness', 'worst concavity', 'worst concave points', 'worst symmetry']\n"
          ]
        }
      ]
    },
    {
      "cell_type": "code",
      "source": [],
      "metadata": {
        "id": "6H8XhmUdzyt3"
      },
      "execution_count": null,
      "outputs": []
    }
  ]
}