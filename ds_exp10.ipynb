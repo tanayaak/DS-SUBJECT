{
  "nbformat": 4,
  "nbformat_minor": 0,
  "metadata": {
    "colab": {
      "private_outputs": true,
      "provenance": [],
      "include_colab_link": true
    },
    "kernelspec": {
      "name": "python3",
      "display_name": "Python 3"
    },
    "language_info": {
      "name": "python"
    }
  },
  "cells": [
    {
      "cell_type": "markdown",
      "metadata": {
        "id": "view-in-github",
        "colab_type": "text"
      },
      "source": [
        "<a href=\"https://colab.research.google.com/github/tanayaak/DS-SUBJECT/blob/main/ds_exp10.ipynb\" target=\"_parent\"><img src=\"https://colab.research.google.com/assets/colab-badge.svg\" alt=\"Open In Colab\"/></a>"
      ]
    },
    {
      "cell_type": "code",
      "execution_count": null,
      "metadata": {
        "id": "1Z5uDe6vaX7f"
      },
      "outputs": [],
      "source": [
        "#WRAPPER FEATURE SELECTION PART-2"
      ]
    },
    {
      "cell_type": "code",
      "source": [
        "#IMPORT LIBRARIES"
      ],
      "metadata": {
        "id": "UNgSZiwGahwv"
      },
      "execution_count": null,
      "outputs": []
    },
    {
      "cell_type": "code",
      "source": [
        "# Import necessary libraries\n",
        "import pandas as pd\n",
        "from sklearn.datasets import load_iris\n",
        "from sklearn.ensemble import RandomForestClassifier\n",
        "from sklearn.model_selection import train_test_split, cross_val_score, KFold\n",
        "from sklearn.feature_selection import RFE\n",
        "from sklearn.linear_model import LogisticRegression\n",
        "import matplotlib.pyplot as plt\n",
        "from statsmodels.stats.outliers_influence import variance_inflation_factor\n",
        "\n",
        "# Load the Iris dataset (You can replace this with your own dataset)\n",
        "data = load_iris()\n",
        "X = pd.DataFrame(data.data, columns=data.feature_names)\n",
        "y = pd.Series(data.target)\n",
        "\n",
        "# Display the first few rows of the dataset\n",
        "X.head(), y.head()\n"
      ],
      "metadata": {
        "id": "IrYbC3DEamu6"
      },
      "execution_count": null,
      "outputs": []
    },
    {
      "cell_type": "code",
      "source": [
        "#Perform Cross-Validation with Random Forest"
      ],
      "metadata": {
        "id": "kgHk0bWnanL5"
      },
      "execution_count": null,
      "outputs": []
    },
    {
      "cell_type": "code",
      "source": [
        "# Create a RandomForest model\n",
        "rf_model = RandomForestClassifier()\n",
        "\n",
        "# Perform 5-fold cross-validation to evaluate the model\n",
        "cv_scores = cross_val_score(rf_model, X, y, cv=5, scoring='accuracy')\n",
        "\n",
        "# Display cross-validated accuracy\n",
        "print(f\"RandomForest Cross-validated accuracy: {cv_scores.mean():.3f}\")\n"
      ],
      "metadata": {
        "id": "HjfXgmCfasdZ"
      },
      "execution_count": null,
      "outputs": []
    },
    {
      "cell_type": "code",
      "source": [
        "#Evaluate Feature Importance"
      ],
      "metadata": {
        "id": "_5Ndir_1i_lR"
      },
      "execution_count": null,
      "outputs": []
    },
    {
      "cell_type": "code",
      "source": [
        "# Fit the RandomForest model to the entire dataset\n",
        "rf_model.fit(X, y)\n",
        "\n",
        "# Get feature importance from the trained model\n",
        "importances = rf_model.feature_importances_\n",
        "\n",
        "# Create a DataFrame to hold feature names and importance scores\n",
        "feature_importance_df = pd.DataFrame({\n",
        "    'Feature': X.columns,\n",
        "    'Importance': importances\n",
        "})\n",
        "\n",
        "# Sort the features by importance in descending order\n",
        "feature_importance_df = feature_importance_df.sort_values(by='Importance', ascending=False)\n",
        "\n",
        "# Display feature importances\n",
        "print(\"Feature Importances:\")\n",
        "print(feature_importance_df)\n",
        "\n",
        "# Visualize feature importances\n",
        "plt.barh(feature_importance_df['Feature'], feature_importance_df['Importance'])\n",
        "plt.xlabel('Importance')\n",
        "plt.title('Feature Importance - Random Forest')\n",
        "plt.show()\n"
      ],
      "metadata": {
        "id": "43FUBbxzjCQY"
      },
      "execution_count": null,
      "outputs": []
    },
    {
      "cell_type": "code",
      "source": [
        "#Handle Multicollinearity using Variance Inflation Factor (VIF)"
      ],
      "metadata": {
        "id": "UAe3WW98jG66"
      },
      "execution_count": null,
      "outputs": []
    },
    {
      "cell_type": "code",
      "source": [
        "# Calculate VIF to check for multicollinearity\n",
        "vif_data = pd.DataFrame()\n",
        "vif_data['Feature'] = X.columns\n",
        "vif_data['VIF'] = [variance_inflation_factor(X.values, i) for i in range(X.shape[1])]\n",
        "\n",
        "# Display features with high VIF (indicating multicollinearity)\n",
        "print(\"VIF values:\")\n",
        "print(vif_data[vif_data['VIF'] > 5])  # Typically VIF > 5 indicates multicollinearity\n"
      ],
      "metadata": {
        "id": "FYt4yx88jKpb"
      },
      "execution_count": null,
      "outputs": []
    },
    {
      "cell_type": "code",
      "source": [
        "# Apply Recursive Feature Elimination (RFE)"
      ],
      "metadata": {
        "id": "wgbnlXJAjMVK"
      },
      "execution_count": null,
      "outputs": []
    },
    {
      "cell_type": "code",
      "source": [
        "# Initialize Recursive Feature Elimination (RFE) with RandomForest model\n",
        "rfe = RFE(estimator=rf_model, n_features_to_select=2)  # Choose how many features to select\n",
        "rfe.fit(X, y)\n",
        "\n",
        "# Get the selected features\n",
        "selected_features = X.columns[rfe.support_]\n",
        "print(f\"Selected features from RFE: {selected_features.tolist()}\")\n"
      ],
      "metadata": {
        "id": "UWf3ipltjQ3T"
      },
      "execution_count": null,
      "outputs": []
    },
    {
      "cell_type": "code",
      "source": [
        "#Evaluate Final Model on Selected Features"
      ],
      "metadata": {
        "id": "mK1NISwtjTA9"
      },
      "execution_count": null,
      "outputs": []
    },
    {
      "cell_type": "code",
      "source": [
        "# Train and evaluate the final model using only the selected features from RFE\n",
        "final_rf_model = RandomForestClassifier()\n",
        "\n",
        "# Perform 5-fold cross-validation using only the selected features\n",
        "final_scores = cross_val_score(final_rf_model, X[selected_features], y, cv=5, scoring='accuracy')\n",
        "\n",
        "# Display final model cross-validated accuracy\n",
        "print(f\"Final Model with selected features Cross-validated accuracy: {final_scores.mean():.3f}\")\n"
      ],
      "metadata": {
        "id": "jPmVm0k-jX0E"
      },
      "execution_count": null,
      "outputs": []
    },
    {
      "cell_type": "code",
      "source": [],
      "metadata": {
        "id": "uEEa6U95jZoZ"
      },
      "execution_count": null,
      "outputs": []
    }
  ]
}